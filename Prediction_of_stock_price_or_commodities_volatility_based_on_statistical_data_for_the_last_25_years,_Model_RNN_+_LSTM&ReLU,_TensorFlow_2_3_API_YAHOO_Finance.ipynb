{
  "cells": [
    {
      "cell_type": "code",
      "execution_count": 1,
      "id": "f91eb4e9",
      "metadata": {
        "colab": {
          "base_uri": "https://localhost:8080/",
          "height": 1000
        },
        "id": "f91eb4e9",
        "outputId": "a7e9c05d-b15b-4dfd-c0d3-e946b13108ea"
      },
      "outputs": [
        {
          "output_type": "stream",
          "name": "stdout",
          "text": [
            "Looking in indexes: https://pypi.org/simple, https://us-python.pkg.dev/colab-wheels/public/simple/\n",
            "Requirement already satisfied: tensorflow in /usr/local/lib/python3.8/dist-packages (2.9.2)\n",
            "Requirement already satisfied: libclang>=13.0.0 in /usr/local/lib/python3.8/dist-packages (from tensorflow) (15.0.6.1)\n",
            "Requirement already satisfied: tensorflow-estimator<2.10.0,>=2.9.0rc0 in /usr/local/lib/python3.8/dist-packages (from tensorflow) (2.9.0)\n",
            "Requirement already satisfied: h5py>=2.9.0 in /usr/local/lib/python3.8/dist-packages (from tensorflow) (3.1.0)\n",
            "Requirement already satisfied: setuptools in /usr/local/lib/python3.8/dist-packages (from tensorflow) (57.4.0)\n",
            "Requirement already satisfied: packaging in /usr/local/lib/python3.8/dist-packages (from tensorflow) (21.3)\n",
            "Requirement already satisfied: grpcio<2.0,>=1.24.3 in /usr/local/lib/python3.8/dist-packages (from tensorflow) (1.51.1)\n",
            "Requirement already satisfied: wrapt>=1.11.0 in /usr/local/lib/python3.8/dist-packages (from tensorflow) (1.14.1)\n",
            "Requirement already satisfied: typing-extensions>=3.6.6 in /usr/local/lib/python3.8/dist-packages (from tensorflow) (4.4.0)\n",
            "Requirement already satisfied: termcolor>=1.1.0 in /usr/local/lib/python3.8/dist-packages (from tensorflow) (2.2.0)\n",
            "Requirement already satisfied: tensorflow-io-gcs-filesystem>=0.23.1 in /usr/local/lib/python3.8/dist-packages (from tensorflow) (0.29.0)\n",
            "Requirement already satisfied: astunparse>=1.6.0 in /usr/local/lib/python3.8/dist-packages (from tensorflow) (1.6.3)\n",
            "Requirement already satisfied: keras<2.10.0,>=2.9.0rc0 in /usr/local/lib/python3.8/dist-packages (from tensorflow) (2.9.0)\n",
            "Requirement already satisfied: protobuf<3.20,>=3.9.2 in /usr/local/lib/python3.8/dist-packages (from tensorflow) (3.19.6)\n",
            "Requirement already satisfied: gast<=0.4.0,>=0.2.1 in /usr/local/lib/python3.8/dist-packages (from tensorflow) (0.4.0)\n",
            "Requirement already satisfied: numpy>=1.20 in /usr/local/lib/python3.8/dist-packages (from tensorflow) (1.21.6)\n",
            "Requirement already satisfied: google-pasta>=0.1.1 in /usr/local/lib/python3.8/dist-packages (from tensorflow) (0.2.0)\n",
            "Requirement already satisfied: flatbuffers<2,>=1.12 in /usr/local/lib/python3.8/dist-packages (from tensorflow) (1.12)\n",
            "Requirement already satisfied: keras-preprocessing>=1.1.1 in /usr/local/lib/python3.8/dist-packages (from tensorflow) (1.1.2)\n",
            "Requirement already satisfied: six>=1.12.0 in /usr/local/lib/python3.8/dist-packages (from tensorflow) (1.15.0)\n",
            "Requirement already satisfied: tensorboard<2.10,>=2.9 in /usr/local/lib/python3.8/dist-packages (from tensorflow) (2.9.1)\n",
            "Requirement already satisfied: absl-py>=1.0.0 in /usr/local/lib/python3.8/dist-packages (from tensorflow) (1.3.0)\n",
            "Requirement already satisfied: opt-einsum>=2.3.2 in /usr/local/lib/python3.8/dist-packages (from tensorflow) (3.3.0)\n",
            "Requirement already satisfied: wheel<1.0,>=0.23.0 in /usr/local/lib/python3.8/dist-packages (from astunparse>=1.6.0->tensorflow) (0.38.4)\n",
            "Requirement already satisfied: google-auth<3,>=1.6.3 in /usr/local/lib/python3.8/dist-packages (from tensorboard<2.10,>=2.9->tensorflow) (2.16.0)\n",
            "Requirement already satisfied: google-auth-oauthlib<0.5,>=0.4.1 in /usr/local/lib/python3.8/dist-packages (from tensorboard<2.10,>=2.9->tensorflow) (0.4.6)\n",
            "Requirement already satisfied: tensorboard-data-server<0.7.0,>=0.6.0 in /usr/local/lib/python3.8/dist-packages (from tensorboard<2.10,>=2.9->tensorflow) (0.6.1)\n",
            "Requirement already satisfied: werkzeug>=1.0.1 in /usr/local/lib/python3.8/dist-packages (from tensorboard<2.10,>=2.9->tensorflow) (1.0.1)\n",
            "Requirement already satisfied: tensorboard-plugin-wit>=1.6.0 in /usr/local/lib/python3.8/dist-packages (from tensorboard<2.10,>=2.9->tensorflow) (1.8.1)\n",
            "Requirement already satisfied: markdown>=2.6.8 in /usr/local/lib/python3.8/dist-packages (from tensorboard<2.10,>=2.9->tensorflow) (3.4.1)\n",
            "Requirement already satisfied: requests<3,>=2.21.0 in /usr/local/lib/python3.8/dist-packages (from tensorboard<2.10,>=2.9->tensorflow) (2.25.1)\n",
            "Requirement already satisfied: pyparsing!=3.0.5,>=2.0.2 in /usr/local/lib/python3.8/dist-packages (from packaging->tensorflow) (3.0.9)\n",
            "Requirement already satisfied: pyasn1-modules>=0.2.1 in /usr/local/lib/python3.8/dist-packages (from google-auth<3,>=1.6.3->tensorboard<2.10,>=2.9->tensorflow) (0.2.8)\n",
            "Requirement already satisfied: cachetools<6.0,>=2.0.0 in /usr/local/lib/python3.8/dist-packages (from google-auth<3,>=1.6.3->tensorboard<2.10,>=2.9->tensorflow) (5.2.1)\n",
            "Requirement already satisfied: rsa<5,>=3.1.4 in /usr/local/lib/python3.8/dist-packages (from google-auth<3,>=1.6.3->tensorboard<2.10,>=2.9->tensorflow) (4.9)\n",
            "Requirement already satisfied: requests-oauthlib>=0.7.0 in /usr/local/lib/python3.8/dist-packages (from google-auth-oauthlib<0.5,>=0.4.1->tensorboard<2.10,>=2.9->tensorflow) (1.3.1)\n",
            "Requirement already satisfied: importlib-metadata>=4.4 in /usr/local/lib/python3.8/dist-packages (from markdown>=2.6.8->tensorboard<2.10,>=2.9->tensorflow) (6.0.0)\n",
            "Requirement already satisfied: urllib3<1.27,>=1.21.1 in /usr/local/lib/python3.8/dist-packages (from requests<3,>=2.21.0->tensorboard<2.10,>=2.9->tensorflow) (1.24.3)\n",
            "Requirement already satisfied: certifi>=2017.4.17 in /usr/local/lib/python3.8/dist-packages (from requests<3,>=2.21.0->tensorboard<2.10,>=2.9->tensorflow) (2022.12.7)\n",
            "Requirement already satisfied: chardet<5,>=3.0.2 in /usr/local/lib/python3.8/dist-packages (from requests<3,>=2.21.0->tensorboard<2.10,>=2.9->tensorflow) (4.0.0)\n",
            "Requirement already satisfied: idna<3,>=2.5 in /usr/local/lib/python3.8/dist-packages (from requests<3,>=2.21.0->tensorboard<2.10,>=2.9->tensorflow) (2.10)\n",
            "Requirement already satisfied: zipp>=0.5 in /usr/local/lib/python3.8/dist-packages (from importlib-metadata>=4.4->markdown>=2.6.8->tensorboard<2.10,>=2.9->tensorflow) (3.11.0)\n",
            "Requirement already satisfied: pyasn1<0.5.0,>=0.4.6 in /usr/local/lib/python3.8/dist-packages (from pyasn1-modules>=0.2.1->google-auth<3,>=1.6.3->tensorboard<2.10,>=2.9->tensorflow) (0.4.8)\n",
            "Requirement already satisfied: oauthlib>=3.0.0 in /usr/local/lib/python3.8/dist-packages (from requests-oauthlib>=0.7.0->google-auth-oauthlib<0.5,>=0.4.1->tensorboard<2.10,>=2.9->tensorflow) (3.2.2)\n",
            "Looking in indexes: https://pypi.org/simple, https://us-python.pkg.dev/colab-wheels/public/simple/\n",
            "Collecting yfinance\n",
            "  Downloading yfinance-0.2.4-py2.py3-none-any.whl (51 kB)\n",
            "\u001b[2K     \u001b[90m━━━━━━━━━━━━━━━━━━━━━━━━━━━━━━━━━━━━━━━\u001b[0m \u001b[32m51.4/51.4 KB\u001b[0m \u001b[31m794.4 kB/s\u001b[0m eta \u001b[36m0:00:00\u001b[0m\n",
            "\u001b[?25hRequirement already satisfied: numpy>=1.16.5 in /usr/local/lib/python3.8/dist-packages (from yfinance) (1.21.6)\n",
            "Requirement already satisfied: appdirs>=1.4.4 in /usr/local/lib/python3.8/dist-packages (from yfinance) (1.4.4)\n",
            "Collecting requests>=2.26\n",
            "  Downloading requests-2.28.2-py3-none-any.whl (62 kB)\n",
            "\u001b[2K     \u001b[90m━━━━━━━━━━━━━━━━━━━━━━━━━━━━━━━━━━━━━━━━\u001b[0m \u001b[32m62.8/62.8 KB\u001b[0m \u001b[31m2.2 MB/s\u001b[0m eta \u001b[36m0:00:00\u001b[0m\n",
            "\u001b[?25hCollecting frozendict>=2.3.4\n",
            "  Downloading frozendict-2.3.4-cp38-cp38-manylinux_2_17_x86_64.manylinux2014_x86_64.whl (110 kB)\n",
            "\u001b[2K     \u001b[90m━━━━━━━━━━━━━━━━━━━━━━━━━━━━━━━━━━━━━━━\u001b[0m \u001b[32m111.0/111.0 KB\u001b[0m \u001b[31m2.1 MB/s\u001b[0m eta \u001b[36m0:00:00\u001b[0m\n",
            "\u001b[?25hCollecting html5lib>=1.1\n",
            "  Downloading html5lib-1.1-py2.py3-none-any.whl (112 kB)\n",
            "\u001b[2K     \u001b[90m━━━━━━━━━━━━━━━━━━━━━━━━━━━━━━━━━━━━━━━\u001b[0m \u001b[32m112.2/112.2 KB\u001b[0m \u001b[31m4.2 MB/s\u001b[0m eta \u001b[36m0:00:00\u001b[0m\n",
            "\u001b[?25hRequirement already satisfied: lxml>=4.9.1 in /usr/local/lib/python3.8/dist-packages (from yfinance) (4.9.2)\n",
            "Requirement already satisfied: multitasking>=0.0.7 in /usr/local/lib/python3.8/dist-packages (from yfinance) (0.0.11)\n",
            "Collecting cryptography>=3.3.2\n",
            "  Downloading cryptography-39.0.0-cp36-abi3-manylinux_2_28_x86_64.whl (4.2 MB)\n",
            "\u001b[2K     \u001b[90m━━━━━━━━━━━━━━━━━━━━━━━━━━━━━━━━━━━━━━━━\u001b[0m \u001b[32m4.2/4.2 MB\u001b[0m \u001b[31m30.9 MB/s\u001b[0m eta \u001b[36m0:00:00\u001b[0m\n",
            "\u001b[?25hCollecting beautifulsoup4>=4.11.1\n",
            "  Downloading beautifulsoup4-4.11.1-py3-none-any.whl (128 kB)\n",
            "\u001b[2K     \u001b[90m━━━━━━━━━━━━━━━━━━━━━━━━━━━━━━━━━━━━━━━\u001b[0m \u001b[32m128.2/128.2 KB\u001b[0m \u001b[31m7.0 MB/s\u001b[0m eta \u001b[36m0:00:00\u001b[0m\n",
            "\u001b[?25hRequirement already satisfied: pandas>=1.3.0 in /usr/local/lib/python3.8/dist-packages (from yfinance) (1.3.5)\n",
            "Requirement already satisfied: pytz>=2022.5 in /usr/local/lib/python3.8/dist-packages (from yfinance) (2022.7)\n",
            "Collecting soupsieve>1.2\n",
            "  Downloading soupsieve-2.3.2.post1-py3-none-any.whl (37 kB)\n",
            "Requirement already satisfied: cffi>=1.12 in /usr/local/lib/python3.8/dist-packages (from cryptography>=3.3.2->yfinance) (1.15.1)\n",
            "Requirement already satisfied: webencodings in /usr/local/lib/python3.8/dist-packages (from html5lib>=1.1->yfinance) (0.5.1)\n",
            "Requirement already satisfied: six>=1.9 in /usr/local/lib/python3.8/dist-packages (from html5lib>=1.1->yfinance) (1.15.0)\n",
            "Requirement already satisfied: python-dateutil>=2.7.3 in /usr/local/lib/python3.8/dist-packages (from pandas>=1.3.0->yfinance) (2.8.2)\n",
            "Requirement already satisfied: certifi>=2017.4.17 in /usr/local/lib/python3.8/dist-packages (from requests>=2.26->yfinance) (2022.12.7)\n",
            "Requirement already satisfied: idna<4,>=2.5 in /usr/local/lib/python3.8/dist-packages (from requests>=2.26->yfinance) (2.10)\n",
            "Requirement already satisfied: charset-normalizer<4,>=2 in /usr/local/lib/python3.8/dist-packages (from requests>=2.26->yfinance) (2.1.1)\n",
            "Requirement already satisfied: urllib3<1.27,>=1.21.1 in /usr/local/lib/python3.8/dist-packages (from requests>=2.26->yfinance) (1.24.3)\n",
            "Requirement already satisfied: pycparser in /usr/local/lib/python3.8/dist-packages (from cffi>=1.12->cryptography>=3.3.2->yfinance) (2.21)\n",
            "Installing collected packages: soupsieve, requests, html5lib, frozendict, cryptography, beautifulsoup4, yfinance\n",
            "  Attempting uninstall: requests\n",
            "    Found existing installation: requests 2.25.1\n",
            "    Uninstalling requests-2.25.1:\n",
            "      Successfully uninstalled requests-2.25.1\n",
            "  Attempting uninstall: html5lib\n",
            "    Found existing installation: html5lib 1.0.1\n",
            "    Uninstalling html5lib-1.0.1:\n",
            "      Successfully uninstalled html5lib-1.0.1\n",
            "  Attempting uninstall: beautifulsoup4\n",
            "    Found existing installation: beautifulsoup4 4.6.3\n",
            "    Uninstalling beautifulsoup4-4.6.3:\n",
            "      Successfully uninstalled beautifulsoup4-4.6.3\n",
            "Successfully installed beautifulsoup4-4.11.1 cryptography-39.0.0 frozendict-2.3.4 html5lib-1.1 requests-2.28.2 soupsieve-2.3.2.post1 yfinance-0.2.4\n"
          ]
        },
        {
          "output_type": "display_data",
          "data": {
            "application/vnd.colab-display-data+json": {
              "pip_warning": {
                "packages": [
                  "requests"
                ]
              }
            }
          },
          "metadata": {}
        }
      ],
      "source": [
        "!pip install tensorflow\n",
        "#import tensorflow as tf\n",
        "from tensorflow import keras\n",
        "#yahoo finance as data source\n",
        "!pip install yfinance\n",
        "import yfinance as yf\n",
        "import flask\n",
        "from flask import Flask"
      ]
    },
    {
      "cell_type": "markdown",
      "source": [],
      "metadata": {
        "id": "ymNQSD8wJhBC"
      },
      "id": "ymNQSD8wJhBC"
    },
    {
      "cell_type": "markdown",
      "source": [
        "**Prediction of stock price or commodities volatility (NEXT DAY or up to 3 days) based on statistical data for the last 25 years, Model: RNN + LSTM&ReLU, TensorFlow 2.3, API: YAHOO Finance**"
      ],
      "metadata": {
        "id": "1lglfznpJi8T"
      },
      "id": "1lglfznpJi8T"
    },
    {
      "cell_type": "code",
      "execution_count": 56,
      "id": "ee00f18c",
      "metadata": {
        "id": "ee00f18c"
      },
      "outputs": [],
      "source": [
        "#See the yahoo finance ticker for your stock symbol\n",
        "#stock_symbol = 'GAIL.NS'\n",
        "#stock_symbol = '^GSPC' \n",
        "#stock_symbol = 'IBM'\n",
        "#stock_symbol = 'NG=F'\n",
        "stock_symbol = 'GC=F' # Gold"
      ]
    },
    {
      "cell_type": "code",
      "execution_count": 57,
      "id": "d365868a",
      "metadata": {
        "colab": {
          "base_uri": "https://localhost:8080/"
        },
        "id": "d365868a",
        "outputId": "2619258d-a5cb-4567-b749-4a741a2bb709"
      },
      "outputs": [
        {
          "output_type": "stream",
          "name": "stdout",
          "text": [
            "\r[*********************100%***********************]  1 of 1 completed\n"
          ]
        }
      ],
      "source": [
        "#last 5 year#s data with interval of 1 day\n",
        "data = yf.download(tickers=stock_symbol,period='20y',interval='1d')"
      ]
    },
    {
      "cell_type": "code",
      "execution_count": 58,
      "id": "9f82e205",
      "metadata": {
        "colab": {
          "base_uri": "https://localhost:8080/"
        },
        "id": "9f82e205",
        "outputId": "bdbf36fd-aea5-4095-fe91-450b2550108a"
      },
      "outputs": [
        {
          "output_type": "execute_result",
          "data": {
            "text/plain": [
              "pandas.core.frame.DataFrame"
            ]
          },
          "metadata": {},
          "execution_count": 58
        }
      ],
      "source": [
        "type(data)"
      ]
    },
    {
      "cell_type": "code",
      "execution_count": 59,
      "id": "dbbe3e6b",
      "metadata": {
        "colab": {
          "base_uri": "https://localhost:8080/",
          "height": 237
        },
        "id": "dbbe3e6b",
        "outputId": "f3c7848a-6e9a-413f-b824-39a81fd40147"
      },
      "outputs": [
        {
          "output_type": "execute_result",
          "data": {
            "text/plain": [
              "                                 Open        High         Low       Close  \\\n",
              "Date                                                                        \n",
              "2003-01-23 00:00:00-05:00  364.500000  364.500000  364.500000  364.500000   \n",
              "2003-01-24 00:00:00-05:00  368.200012  368.200012  367.000000  368.200012   \n",
              "2003-01-27 00:00:00-05:00  371.000000  372.000000  369.399994  369.399994   \n",
              "2003-01-28 00:00:00-05:00  369.000000  370.000000  369.000000  370.000000   \n",
              "2003-01-29 00:00:00-05:00  366.299988  366.299988  366.299988  366.299988   \n",
              "\n",
              "                            Adj Close  Volume  \n",
              "Date                                           \n",
              "2003-01-23 00:00:00-05:00  364.500000       1  \n",
              "2003-01-24 00:00:00-05:00  368.200012      44  \n",
              "2003-01-27 00:00:00-05:00  369.399994      28  \n",
              "2003-01-28 00:00:00-05:00  370.000000       0  \n",
              "2003-01-29 00:00:00-05:00  366.299988     834  "
            ],
            "text/html": [
              "\n",
              "  <div id=\"df-4a724fe0-cd2a-42d3-b9c8-7fc5da0727dd\">\n",
              "    <div class=\"colab-df-container\">\n",
              "      <div>\n",
              "<style scoped>\n",
              "    .dataframe tbody tr th:only-of-type {\n",
              "        vertical-align: middle;\n",
              "    }\n",
              "\n",
              "    .dataframe tbody tr th {\n",
              "        vertical-align: top;\n",
              "    }\n",
              "\n",
              "    .dataframe thead th {\n",
              "        text-align: right;\n",
              "    }\n",
              "</style>\n",
              "<table border=\"1\" class=\"dataframe\">\n",
              "  <thead>\n",
              "    <tr style=\"text-align: right;\">\n",
              "      <th></th>\n",
              "      <th>Open</th>\n",
              "      <th>High</th>\n",
              "      <th>Low</th>\n",
              "      <th>Close</th>\n",
              "      <th>Adj Close</th>\n",
              "      <th>Volume</th>\n",
              "    </tr>\n",
              "    <tr>\n",
              "      <th>Date</th>\n",
              "      <th></th>\n",
              "      <th></th>\n",
              "      <th></th>\n",
              "      <th></th>\n",
              "      <th></th>\n",
              "      <th></th>\n",
              "    </tr>\n",
              "  </thead>\n",
              "  <tbody>\n",
              "    <tr>\n",
              "      <th>2003-01-23 00:00:00-05:00</th>\n",
              "      <td>364.500000</td>\n",
              "      <td>364.500000</td>\n",
              "      <td>364.500000</td>\n",
              "      <td>364.500000</td>\n",
              "      <td>364.500000</td>\n",
              "      <td>1</td>\n",
              "    </tr>\n",
              "    <tr>\n",
              "      <th>2003-01-24 00:00:00-05:00</th>\n",
              "      <td>368.200012</td>\n",
              "      <td>368.200012</td>\n",
              "      <td>367.000000</td>\n",
              "      <td>368.200012</td>\n",
              "      <td>368.200012</td>\n",
              "      <td>44</td>\n",
              "    </tr>\n",
              "    <tr>\n",
              "      <th>2003-01-27 00:00:00-05:00</th>\n",
              "      <td>371.000000</td>\n",
              "      <td>372.000000</td>\n",
              "      <td>369.399994</td>\n",
              "      <td>369.399994</td>\n",
              "      <td>369.399994</td>\n",
              "      <td>28</td>\n",
              "    </tr>\n",
              "    <tr>\n",
              "      <th>2003-01-28 00:00:00-05:00</th>\n",
              "      <td>369.000000</td>\n",
              "      <td>370.000000</td>\n",
              "      <td>369.000000</td>\n",
              "      <td>370.000000</td>\n",
              "      <td>370.000000</td>\n",
              "      <td>0</td>\n",
              "    </tr>\n",
              "    <tr>\n",
              "      <th>2003-01-29 00:00:00-05:00</th>\n",
              "      <td>366.299988</td>\n",
              "      <td>366.299988</td>\n",
              "      <td>366.299988</td>\n",
              "      <td>366.299988</td>\n",
              "      <td>366.299988</td>\n",
              "      <td>834</td>\n",
              "    </tr>\n",
              "  </tbody>\n",
              "</table>\n",
              "</div>\n",
              "      <button class=\"colab-df-convert\" onclick=\"convertToInteractive('df-4a724fe0-cd2a-42d3-b9c8-7fc5da0727dd')\"\n",
              "              title=\"Convert this dataframe to an interactive table.\"\n",
              "              style=\"display:none;\">\n",
              "        \n",
              "  <svg xmlns=\"http://www.w3.org/2000/svg\" height=\"24px\"viewBox=\"0 0 24 24\"\n",
              "       width=\"24px\">\n",
              "    <path d=\"M0 0h24v24H0V0z\" fill=\"none\"/>\n",
              "    <path d=\"M18.56 5.44l.94 2.06.94-2.06 2.06-.94-2.06-.94-.94-2.06-.94 2.06-2.06.94zm-11 1L8.5 8.5l.94-2.06 2.06-.94-2.06-.94L8.5 2.5l-.94 2.06-2.06.94zm10 10l.94 2.06.94-2.06 2.06-.94-2.06-.94-.94-2.06-.94 2.06-2.06.94z\"/><path d=\"M17.41 7.96l-1.37-1.37c-.4-.4-.92-.59-1.43-.59-.52 0-1.04.2-1.43.59L10.3 9.45l-7.72 7.72c-.78.78-.78 2.05 0 2.83L4 21.41c.39.39.9.59 1.41.59.51 0 1.02-.2 1.41-.59l7.78-7.78 2.81-2.81c.8-.78.8-2.07 0-2.86zM5.41 20L4 18.59l7.72-7.72 1.47 1.35L5.41 20z\"/>\n",
              "  </svg>\n",
              "      </button>\n",
              "      \n",
              "  <style>\n",
              "    .colab-df-container {\n",
              "      display:flex;\n",
              "      flex-wrap:wrap;\n",
              "      gap: 12px;\n",
              "    }\n",
              "\n",
              "    .colab-df-convert {\n",
              "      background-color: #E8F0FE;\n",
              "      border: none;\n",
              "      border-radius: 50%;\n",
              "      cursor: pointer;\n",
              "      display: none;\n",
              "      fill: #1967D2;\n",
              "      height: 32px;\n",
              "      padding: 0 0 0 0;\n",
              "      width: 32px;\n",
              "    }\n",
              "\n",
              "    .colab-df-convert:hover {\n",
              "      background-color: #E2EBFA;\n",
              "      box-shadow: 0px 1px 2px rgba(60, 64, 67, 0.3), 0px 1px 3px 1px rgba(60, 64, 67, 0.15);\n",
              "      fill: #174EA6;\n",
              "    }\n",
              "\n",
              "    [theme=dark] .colab-df-convert {\n",
              "      background-color: #3B4455;\n",
              "      fill: #D2E3FC;\n",
              "    }\n",
              "\n",
              "    [theme=dark] .colab-df-convert:hover {\n",
              "      background-color: #434B5C;\n",
              "      box-shadow: 0px 1px 3px 1px rgba(0, 0, 0, 0.15);\n",
              "      filter: drop-shadow(0px 1px 2px rgba(0, 0, 0, 0.3));\n",
              "      fill: #FFFFFF;\n",
              "    }\n",
              "  </style>\n",
              "\n",
              "      <script>\n",
              "        const buttonEl =\n",
              "          document.querySelector('#df-4a724fe0-cd2a-42d3-b9c8-7fc5da0727dd button.colab-df-convert');\n",
              "        buttonEl.style.display =\n",
              "          google.colab.kernel.accessAllowed ? 'block' : 'none';\n",
              "\n",
              "        async function convertToInteractive(key) {\n",
              "          const element = document.querySelector('#df-4a724fe0-cd2a-42d3-b9c8-7fc5da0727dd');\n",
              "          const dataTable =\n",
              "            await google.colab.kernel.invokeFunction('convertToInteractive',\n",
              "                                                     [key], {});\n",
              "          if (!dataTable) return;\n",
              "\n",
              "          const docLinkHtml = 'Like what you see? Visit the ' +\n",
              "            '<a target=\"_blank\" href=https://colab.research.google.com/notebooks/data_table.ipynb>data table notebook</a>'\n",
              "            + ' to learn more about interactive tables.';\n",
              "          element.innerHTML = '';\n",
              "          dataTable['output_type'] = 'display_data';\n",
              "          await google.colab.output.renderOutput(dataTable, element);\n",
              "          const docLink = document.createElement('div');\n",
              "          docLink.innerHTML = docLinkHtml;\n",
              "          element.appendChild(docLink);\n",
              "        }\n",
              "      </script>\n",
              "    </div>\n",
              "  </div>\n",
              "  "
            ]
          },
          "metadata": {},
          "execution_count": 59
        }
      ],
      "source": [
        "data.head()"
      ]
    },
    {
      "cell_type": "code",
      "execution_count": 60,
      "id": "9d445949",
      "metadata": {
        "colab": {
          "base_uri": "https://localhost:8080/"
        },
        "id": "9d445949",
        "outputId": "5b1275fd-c96a-4142-ffa4-ecce6323d21b"
      },
      "outputs": [
        {
          "output_type": "execute_result",
          "data": {
            "text/plain": [
              "5025"
            ]
          },
          "metadata": {},
          "execution_count": 60
        }
      ],
      "source": [
        "len(data)"
      ]
    },
    {
      "cell_type": "code",
      "execution_count": 61,
      "id": "bf283ad5",
      "metadata": {
        "colab": {
          "base_uri": "https://localhost:8080/",
          "height": 237
        },
        "id": "bf283ad5",
        "outputId": "efe60319-54b5-4ea3-f336-9173c8ba1c43"
      },
      "outputs": [
        {
          "output_type": "execute_result",
          "data": {
            "text/plain": [
              "                                  Open         High          Low        Close  \\\n",
              "Date                                                                            \n",
              "2023-01-17 00:00:00-05:00  1920.099976  1920.099976  1905.199951  1907.199951   \n",
              "2023-01-18 00:00:00-05:00  1911.099976  1911.099976  1903.099976  1904.400024   \n",
              "2023-01-19 00:00:00-05:00  1922.099976  1931.800049  1922.099976  1922.099976   \n",
              "2023-01-20 00:00:00-05:00  1922.099976  1928.500000  1921.400024  1926.400024   \n",
              "2023-01-23 00:00:00-05:00  1928.400024  1936.699951  1914.400024  1921.400024   \n",
              "\n",
              "                             Adj Close  Volume  \n",
              "Date                                            \n",
              "2023-01-17 00:00:00-05:00  1907.199951     706  \n",
              "2023-01-18 00:00:00-05:00  1904.400024    1027  \n",
              "2023-01-19 00:00:00-05:00  1922.099976     371  \n",
              "2023-01-20 00:00:00-05:00  1926.400024     371  \n",
              "2023-01-23 00:00:00-05:00  1921.400024  112780  "
            ],
            "text/html": [
              "\n",
              "  <div id=\"df-3a1eb73a-76c4-4cc2-80d2-0a2bfe4bc69a\">\n",
              "    <div class=\"colab-df-container\">\n",
              "      <div>\n",
              "<style scoped>\n",
              "    .dataframe tbody tr th:only-of-type {\n",
              "        vertical-align: middle;\n",
              "    }\n",
              "\n",
              "    .dataframe tbody tr th {\n",
              "        vertical-align: top;\n",
              "    }\n",
              "\n",
              "    .dataframe thead th {\n",
              "        text-align: right;\n",
              "    }\n",
              "</style>\n",
              "<table border=\"1\" class=\"dataframe\">\n",
              "  <thead>\n",
              "    <tr style=\"text-align: right;\">\n",
              "      <th></th>\n",
              "      <th>Open</th>\n",
              "      <th>High</th>\n",
              "      <th>Low</th>\n",
              "      <th>Close</th>\n",
              "      <th>Adj Close</th>\n",
              "      <th>Volume</th>\n",
              "    </tr>\n",
              "    <tr>\n",
              "      <th>Date</th>\n",
              "      <th></th>\n",
              "      <th></th>\n",
              "      <th></th>\n",
              "      <th></th>\n",
              "      <th></th>\n",
              "      <th></th>\n",
              "    </tr>\n",
              "  </thead>\n",
              "  <tbody>\n",
              "    <tr>\n",
              "      <th>2023-01-17 00:00:00-05:00</th>\n",
              "      <td>1920.099976</td>\n",
              "      <td>1920.099976</td>\n",
              "      <td>1905.199951</td>\n",
              "      <td>1907.199951</td>\n",
              "      <td>1907.199951</td>\n",
              "      <td>706</td>\n",
              "    </tr>\n",
              "    <tr>\n",
              "      <th>2023-01-18 00:00:00-05:00</th>\n",
              "      <td>1911.099976</td>\n",
              "      <td>1911.099976</td>\n",
              "      <td>1903.099976</td>\n",
              "      <td>1904.400024</td>\n",
              "      <td>1904.400024</td>\n",
              "      <td>1027</td>\n",
              "    </tr>\n",
              "    <tr>\n",
              "      <th>2023-01-19 00:00:00-05:00</th>\n",
              "      <td>1922.099976</td>\n",
              "      <td>1931.800049</td>\n",
              "      <td>1922.099976</td>\n",
              "      <td>1922.099976</td>\n",
              "      <td>1922.099976</td>\n",
              "      <td>371</td>\n",
              "    </tr>\n",
              "    <tr>\n",
              "      <th>2023-01-20 00:00:00-05:00</th>\n",
              "      <td>1922.099976</td>\n",
              "      <td>1928.500000</td>\n",
              "      <td>1921.400024</td>\n",
              "      <td>1926.400024</td>\n",
              "      <td>1926.400024</td>\n",
              "      <td>371</td>\n",
              "    </tr>\n",
              "    <tr>\n",
              "      <th>2023-01-23 00:00:00-05:00</th>\n",
              "      <td>1928.400024</td>\n",
              "      <td>1936.699951</td>\n",
              "      <td>1914.400024</td>\n",
              "      <td>1921.400024</td>\n",
              "      <td>1921.400024</td>\n",
              "      <td>112780</td>\n",
              "    </tr>\n",
              "  </tbody>\n",
              "</table>\n",
              "</div>\n",
              "      <button class=\"colab-df-convert\" onclick=\"convertToInteractive('df-3a1eb73a-76c4-4cc2-80d2-0a2bfe4bc69a')\"\n",
              "              title=\"Convert this dataframe to an interactive table.\"\n",
              "              style=\"display:none;\">\n",
              "        \n",
              "  <svg xmlns=\"http://www.w3.org/2000/svg\" height=\"24px\"viewBox=\"0 0 24 24\"\n",
              "       width=\"24px\">\n",
              "    <path d=\"M0 0h24v24H0V0z\" fill=\"none\"/>\n",
              "    <path d=\"M18.56 5.44l.94 2.06.94-2.06 2.06-.94-2.06-.94-.94-2.06-.94 2.06-2.06.94zm-11 1L8.5 8.5l.94-2.06 2.06-.94-2.06-.94L8.5 2.5l-.94 2.06-2.06.94zm10 10l.94 2.06.94-2.06 2.06-.94-2.06-.94-.94-2.06-.94 2.06-2.06.94z\"/><path d=\"M17.41 7.96l-1.37-1.37c-.4-.4-.92-.59-1.43-.59-.52 0-1.04.2-1.43.59L10.3 9.45l-7.72 7.72c-.78.78-.78 2.05 0 2.83L4 21.41c.39.39.9.59 1.41.59.51 0 1.02-.2 1.41-.59l7.78-7.78 2.81-2.81c.8-.78.8-2.07 0-2.86zM5.41 20L4 18.59l7.72-7.72 1.47 1.35L5.41 20z\"/>\n",
              "  </svg>\n",
              "      </button>\n",
              "      \n",
              "  <style>\n",
              "    .colab-df-container {\n",
              "      display:flex;\n",
              "      flex-wrap:wrap;\n",
              "      gap: 12px;\n",
              "    }\n",
              "\n",
              "    .colab-df-convert {\n",
              "      background-color: #E8F0FE;\n",
              "      border: none;\n",
              "      border-radius: 50%;\n",
              "      cursor: pointer;\n",
              "      display: none;\n",
              "      fill: #1967D2;\n",
              "      height: 32px;\n",
              "      padding: 0 0 0 0;\n",
              "      width: 32px;\n",
              "    }\n",
              "\n",
              "    .colab-df-convert:hover {\n",
              "      background-color: #E2EBFA;\n",
              "      box-shadow: 0px 1px 2px rgba(60, 64, 67, 0.3), 0px 1px 3px 1px rgba(60, 64, 67, 0.15);\n",
              "      fill: #174EA6;\n",
              "    }\n",
              "\n",
              "    [theme=dark] .colab-df-convert {\n",
              "      background-color: #3B4455;\n",
              "      fill: #D2E3FC;\n",
              "    }\n",
              "\n",
              "    [theme=dark] .colab-df-convert:hover {\n",
              "      background-color: #434B5C;\n",
              "      box-shadow: 0px 1px 3px 1px rgba(0, 0, 0, 0.15);\n",
              "      filter: drop-shadow(0px 1px 2px rgba(0, 0, 0, 0.3));\n",
              "      fill: #FFFFFF;\n",
              "    }\n",
              "  </style>\n",
              "\n",
              "      <script>\n",
              "        const buttonEl =\n",
              "          document.querySelector('#df-3a1eb73a-76c4-4cc2-80d2-0a2bfe4bc69a button.colab-df-convert');\n",
              "        buttonEl.style.display =\n",
              "          google.colab.kernel.accessAllowed ? 'block' : 'none';\n",
              "\n",
              "        async function convertToInteractive(key) {\n",
              "          const element = document.querySelector('#df-3a1eb73a-76c4-4cc2-80d2-0a2bfe4bc69a');\n",
              "          const dataTable =\n",
              "            await google.colab.kernel.invokeFunction('convertToInteractive',\n",
              "                                                     [key], {});\n",
              "          if (!dataTable) return;\n",
              "\n",
              "          const docLinkHtml = 'Like what you see? Visit the ' +\n",
              "            '<a target=\"_blank\" href=https://colab.research.google.com/notebooks/data_table.ipynb>data table notebook</a>'\n",
              "            + ' to learn more about interactive tables.';\n",
              "          element.innerHTML = '';\n",
              "          dataTable['output_type'] = 'display_data';\n",
              "          await google.colab.output.renderOutput(dataTable, element);\n",
              "          const docLink = document.createElement('div');\n",
              "          docLink.innerHTML = docLinkHtml;\n",
              "          element.appendChild(docLink);\n",
              "        }\n",
              "      </script>\n",
              "    </div>\n",
              "  </div>\n",
              "  "
            ]
          },
          "metadata": {},
          "execution_count": 61
        }
      ],
      "source": [
        "data.tail()"
      ]
    },
    {
      "cell_type": "code",
      "source": [
        "import matplotlib.pyplot as plt"
      ],
      "metadata": {
        "id": "AFGCM9Tig8G2"
      },
      "id": "AFGCM9Tig8G2",
      "execution_count": 62,
      "outputs": []
    },
    {
      "cell_type": "code",
      "execution_count": 63,
      "id": "6292e20a",
      "metadata": {
        "id": "6292e20a"
      },
      "outputs": [],
      "source": [
        "opn = data[['Open']]"
      ]
    },
    {
      "cell_type": "code",
      "source": [
        "cln = data[['Close']]"
      ],
      "metadata": {
        "id": "MFkbXXEcoJZM"
      },
      "id": "MFkbXXEcoJZM",
      "execution_count": 64,
      "outputs": []
    },
    {
      "cell_type": "code",
      "source": [
        "#plt.plot(opn)\n",
        "plt.plot(cln)"
      ],
      "metadata": {
        "colab": {
          "base_uri": "https://localhost:8080/",
          "height": 283
        },
        "id": "FiTB1OU2oJjj",
        "outputId": "7d40080f-0345-4067-ec98-f2a9f992f54b"
      },
      "id": "FiTB1OU2oJjj",
      "execution_count": 65,
      "outputs": [
        {
          "output_type": "execute_result",
          "data": {
            "text/plain": [
              "[<matplotlib.lines.Line2D at 0x7fbe6d381280>]"
            ]
          },
          "metadata": {},
          "execution_count": 65
        },
        {
          "output_type": "display_data",
          "data": {
            "text/plain": [
              "<Figure size 432x288 with 1 Axes>"
            ],
            "image/png": "[encoded data removed]"
          },
          "metadata": {
            "needs_background": "light"
          }
        }
      ]
    },
    {
      "cell_type": "code",
      "execution_count": 66,
      "id": "21e132d8",
      "metadata": {
        "colab": {
          "base_uri": "https://localhost:8080/",
          "height": 287
        },
        "id": "21e132d8",
        "outputId": "e3bbb92f-6421-447b-cfe3-25139b44a6a7"
      },
      "outputs": [
        {
          "output_type": "execute_result",
          "data": {
            "text/plain": [
              "<matplotlib.axes._subplots.AxesSubplot at 0x7fbe6d1a3970>"
            ]
          },
          "metadata": {},
          "execution_count": 66
        },
        {
          "output_type": "display_data",
          "data": {
            "text/plain": [
              "<Figure size 432x288 with 1 Axes>"
            ],
            "image/png": "[encoded data removed]"
          },
          "metadata": {
            "needs_background": "light"
          }
        }
      ],
      "source": [
        "opn.plot()"
      ]
    },
    {
      "cell_type": "code",
      "source": [],
      "metadata": {
        "id": "5inwfqPBQhCR"
      },
      "id": "5inwfqPBQhCR",
      "execution_count": null,
      "outputs": []
    },
    {
      "cell_type": "code",
      "execution_count": 67,
      "id": "c5194440",
      "metadata": {
        "id": "c5194440"
      },
      "outputs": [],
      "source": [
        "#import matplotlib.pyplot as plt"
      ]
    },
    {
      "cell_type": "code",
      "execution_count": 68,
      "id": "8038cb6a",
      "metadata": {
        "id": "8038cb6a"
      },
      "outputs": [],
      "source": [
        "#ds = opn.values\n",
        "ds = cln.values"
      ]
    },
    {
      "cell_type": "code",
      "execution_count": 69,
      "id": "69b08672",
      "metadata": {
        "colab": {
          "base_uri": "https://localhost:8080/"
        },
        "id": "69b08672",
        "outputId": "3e533234-6796-4173-e57d-e6f03713a262"
      },
      "outputs": [
        {
          "output_type": "execute_result",
          "data": {
            "text/plain": [
              "array([[ 364.5       ],\n",
              "       [ 368.20001221],\n",
              "       [ 369.3999939 ],\n",
              "       ...,\n",
              "       [1922.09997559],\n",
              "       [1926.40002441],\n",
              "       [1921.40002441]])"
            ]
          },
          "metadata": {},
          "execution_count": 69
        }
      ],
      "source": [
        "ds"
      ]
    },
    {
      "cell_type": "code",
      "execution_count": 70,
      "id": "af022e3c",
      "metadata": {
        "colab": {
          "base_uri": "https://localhost:8080/",
          "height": 283
        },
        "id": "af022e3c",
        "outputId": "24359fed-34dc-45d7-cee4-c847ed3655ae"
      },
      "outputs": [
        {
          "output_type": "execute_result",
          "data": {
            "text/plain": [
              "[<matplotlib.lines.Line2D at 0x7fbe6d166790>]"
            ]
          },
          "metadata": {},
          "execution_count": 70
        },
        {
          "output_type": "display_data",
          "data": {
            "text/plain": [
              "<Figure size 432x288 with 1 Axes>"
            ],
            "image/png": "[encoded data removed]"
          },
          "metadata": {
            "needs_background": "light"
          }
        }
      ],
      "source": [
        "plt.plot(ds)"
      ]
    },
    {
      "cell_type": "code",
      "execution_count": 71,
      "id": "0e73b789",
      "metadata": {
        "id": "0e73b789"
      },
      "outputs": [],
      "source": [
        "import numpy as np"
      ]
    },
    {
      "cell_type": "code",
      "execution_count": 72,
      "id": "0e6c1c22",
      "metadata": {
        "id": "0e6c1c22"
      },
      "outputs": [],
      "source": [
        "from sklearn.preprocessing import MinMaxScaler"
      ]
    },
    {
      "cell_type": "code",
      "execution_count": 73,
      "id": "cf6a3e1b",
      "metadata": {
        "id": "cf6a3e1b"
      },
      "outputs": [],
      "source": [
        "#Using MinMaxScaler for normalizing data between 0 & 1\n",
        "normalizer = MinMaxScaler(feature_range=(0,1))\n",
        "ds_scaled = normalizer.fit_transform(np.array(ds).reshape(-1,1))"
      ]
    },
    {
      "cell_type": "code",
      "execution_count": 74,
      "id": "7dbea1d5",
      "metadata": {
        "colab": {
          "base_uri": "https://localhost:8080/"
        },
        "id": "7dbea1d5",
        "outputId": "e850f609-1da6-41a2-8932-08705de52c29"
      },
      "outputs": [
        {
          "output_type": "execute_result",
          "data": {
            "text/plain": [
              "(5025, 5025)"
            ]
          },
          "metadata": {},
          "execution_count": 74
        }
      ],
      "source": [
        "len(ds_scaled), len(ds)"
      ]
    },
    {
      "cell_type": "code",
      "execution_count": 75,
      "id": "a20c5654",
      "metadata": {
        "id": "a20c5654"
      },
      "outputs": [],
      "source": [
        "#Defining test and train data sizes\n",
        "train_size = int(len(ds_scaled)*0.70)\n",
        "test_size = len(ds_scaled) - train_size"
      ]
    },
    {
      "cell_type": "code",
      "execution_count": 76,
      "id": "b964aa4e",
      "metadata": {
        "colab": {
          "base_uri": "https://localhost:8080/"
        },
        "id": "b964aa4e",
        "outputId": "91cce014-1cf2-43fd-ca8f-8f0895791b44"
      },
      "outputs": [
        {
          "output_type": "execute_result",
          "data": {
            "text/plain": [
              "(3517, 1508)"
            ]
          },
          "metadata": {},
          "execution_count": 76
        }
      ],
      "source": [
        "train_size,test_size"
      ]
    },
    {
      "cell_type": "code",
      "execution_count": 77,
      "id": "25ca615e",
      "metadata": {
        "id": "25ca615e"
      },
      "outputs": [],
      "source": [
        "#Splitting data between train and test\n",
        "ds_train, ds_test = ds_scaled[0:train_size,:], ds_scaled[train_size:len(ds_scaled),:1]"
      ]
    },
    {
      "cell_type": "code",
      "execution_count": 78,
      "id": "95913f28",
      "metadata": {
        "colab": {
          "base_uri": "https://localhost:8080/"
        },
        "id": "95913f28",
        "outputId": "99917f76-f51f-4fc3-dbfc-906980fe6627"
      },
      "outputs": [
        {
          "output_type": "execute_result",
          "data": {
            "text/plain": [
              "(3517, 1508)"
            ]
          },
          "metadata": {},
          "execution_count": 78
        }
      ],
      "source": [
        "len(ds_train),len(ds_test)"
      ]
    },
    {
      "cell_type": "code",
      "execution_count": 79,
      "id": "5dd0b45e",
      "metadata": {
        "id": "5dd0b45e"
      },
      "outputs": [],
      "source": [
        "#creating dataset in time series for LSTM model \n",
        "#X[100,120,140,160,180] : Y[200]\n",
        "def create_ds(dataset,step):\n",
        "    Xtrain, Ytrain = [], []\n",
        "    for i in range(len(dataset)-step-1):\n",
        "        a = dataset[i:(i+step), 0]\n",
        "        Xtrain.append(a)\n",
        "        Ytrain.append(dataset[i + step, 0])\n",
        "    return np.array(Xtrain), np.array(Ytrain)"
      ]
    },
    {
      "cell_type": "code",
      "execution_count": 80,
      "id": "d28b7d1d",
      "metadata": {
        "id": "d28b7d1d"
      },
      "outputs": [],
      "source": [
        "#Taking 100 days price as one record for training\n",
        "time_stamp = 100\n",
        "X_train, y_train = create_ds(ds_train,time_stamp)\n",
        "X_test, y_test = create_ds(ds_test,time_stamp)"
      ]
    },
    {
      "cell_type": "code",
      "execution_count": 81,
      "id": "03ce9096",
      "metadata": {
        "colab": {
          "base_uri": "https://localhost:8080/"
        },
        "id": "03ce9096",
        "outputId": "6e491817-8ade-450e-c1a2-92fa2d851917"
      },
      "outputs": [
        {
          "output_type": "execute_result",
          "data": {
            "text/plain": [
              "((3416, 100), (3416,))"
            ]
          },
          "metadata": {},
          "execution_count": 81
        }
      ],
      "source": [
        "X_train.shape,y_train.shape"
      ]
    },
    {
      "cell_type": "code",
      "execution_count": 82,
      "id": "84acdd72",
      "metadata": {
        "colab": {
          "base_uri": "https://localhost:8080/"
        },
        "id": "84acdd72",
        "outputId": "83d0d5e2-ec21-4b21-8da3-e100dfd23ce4"
      },
      "outputs": [
        {
          "output_type": "execute_result",
          "data": {
            "text/plain": [
              "((1407, 100), (1407,))"
            ]
          },
          "metadata": {},
          "execution_count": 82
        }
      ],
      "source": [
        "X_test.shape, y_test.shape"
      ]
    },
    {
      "cell_type": "code",
      "execution_count": 83,
      "id": "c657d193",
      "metadata": {
        "id": "c657d193"
      },
      "outputs": [],
      "source": [
        "#Reshaping data to fit into LSTM model\n",
        "X_train = X_train.reshape(X_train.shape[0],X_train.shape[1] , 1)\n",
        "X_test = X_test.reshape(X_test.shape[0],X_test.shape[1] , 1)"
      ]
    },
    {
      "cell_type": "code",
      "execution_count": 84,
      "id": "82844671",
      "metadata": {
        "id": "82844671"
      },
      "outputs": [],
      "source": [
        "from tensorflow import keras\n",
        "from keras.models import Sequential\n",
        "from keras.layers import Dense, LSTM"
      ]
    },
    {
      "cell_type": "code",
      "execution_count": 85,
      "id": "b5250913",
      "metadata": {
        "colab": {
          "base_uri": "https://localhost:8080/"
        },
        "id": "b5250913",
        "outputId": "dced9b89-2493-4c92-91ae-a7e8f7413a66"
      },
      "outputs": [
        {
          "output_type": "stream",
          "name": "stdout",
          "text": [
            "Model: \"sequential_1\"\n",
            "_________________________________________________________________\n",
            " Layer (type)                Output Shape              Param #   \n",
            "=================================================================\n",
            " lstm_2 (LSTM)               (None, 100, 128)          66560     \n",
            "                                                                 \n",
            " lstm_3 (LSTM)               (None, 64)                49408     \n",
            "                                                                 \n",
            " dense_2 (Dense)             (None, 25)                1625      \n",
            "                                                                 \n",
            " dense_3 (Dense)             (None, 1)                 26        \n",
            "                                                                 \n",
            "=================================================================\n",
            "Total params: 117,619\n",
            "Trainable params: 117,619\n",
            "Non-trainable params: 0\n",
            "_________________________________________________________________\n"
          ]
        }
      ],
      "source": [
        "#Creating LSTM model using keras\n",
        "model = Sequential()\n",
        "model.add(LSTM(units=128,return_sequences=True,input_shape=(X_train.shape[1],1)))\n",
        "model.add(LSTM(units=64,return_sequences=False))\n",
        "#model.add(LSTM(units=50,return_sequences=True))\n",
        "#model.add(LSTM(units=100, dropout=0.1))\n",
        "model.add(Dense(units=25,activation='linear'))\n",
        "model.add(Dense(units=1,activation='linear'))\n",
        "model.summary()"
      ]
    },
    {
      "cell_type": "code",
      "execution_count": 86,
      "id": "7e8ff062",
      "metadata": {
        "colab": {
          "base_uri": "https://localhost:8080/"
        },
        "id": "7e8ff062",
        "outputId": "fb425a0b-446e-455c-f931-9acd6ba558dc"
      },
      "outputs": [
        {
          "output_type": "stream",
          "name": "stdout",
          "text": [
            "Epoch 1/100\n",
            "54/54 [==============================] - 22s 346ms/step - loss: 0.0103 - accuracy: 0.0000e+00 - val_loss: 6.7918e-04 - val_accuracy: 7.1073e-04\n",
            "Epoch 2/100\n",
            "54/54 [==============================] - 17s 324ms/step - loss: 3.1418e-04 - accuracy: 0.0000e+00 - val_loss: 3.4532e-04 - val_accuracy: 7.1073e-04\n",
            "Epoch 3/100\n",
            "54/54 [==============================] - 17s 324ms/step - loss: 2.7406e-04 - accuracy: 0.0000e+00 - val_loss: 3.9290e-04 - val_accuracy: 7.1073e-04\n",
            "Epoch 4/100\n",
            "54/54 [==============================] - 17s 320ms/step - loss: 2.6849e-04 - accuracy: 0.0000e+00 - val_loss: 3.7734e-04 - val_accuracy: 7.1073e-04\n",
            "Epoch 5/100\n",
            "54/54 [==============================] - 17s 322ms/step - loss: 2.6724e-04 - accuracy: 0.0000e+00 - val_loss: 3.3058e-04 - val_accuracy: 7.1073e-04\n",
            "Epoch 6/100\n",
            "54/54 [==============================] - 17s 314ms/step - loss: 2.6163e-04 - accuracy: 0.0000e+00 - val_loss: 3.0516e-04 - val_accuracy: 7.1073e-04\n",
            "Epoch 7/100\n",
            "54/54 [==============================] - 17s 321ms/step - loss: 2.6578e-04 - accuracy: 0.0000e+00 - val_loss: 3.3452e-04 - val_accuracy: 7.1073e-04\n",
            "Epoch 8/100\n",
            "54/54 [==============================] - 17s 318ms/step - loss: 2.5071e-04 - accuracy: 0.0000e+00 - val_loss: 2.9349e-04 - val_accuracy: 7.1073e-04\n",
            "Epoch 9/100\n",
            "54/54 [==============================] - 17s 321ms/step - loss: 2.6040e-04 - accuracy: 0.0000e+00 - val_loss: 2.8771e-04 - val_accuracy: 7.1073e-04\n",
            "Epoch 10/100\n",
            "54/54 [==============================] - 17s 320ms/step - loss: 2.3320e-04 - accuracy: 0.0000e+00 - val_loss: 3.4243e-04 - val_accuracy: 7.1073e-04\n",
            "Epoch 11/100\n",
            "54/54 [==============================] - 17s 323ms/step - loss: 2.5057e-04 - accuracy: 0.0000e+00 - val_loss: 2.7095e-04 - val_accuracy: 7.1073e-04\n",
            "Epoch 12/100\n",
            "54/54 [==============================] - 17s 316ms/step - loss: 2.2869e-04 - accuracy: 0.0000e+00 - val_loss: 4.3154e-04 - val_accuracy: 7.1073e-04\n",
            "Epoch 13/100\n",
            "54/54 [==============================] - 17s 318ms/step - loss: 2.5431e-04 - accuracy: 0.0000e+00 - val_loss: 5.6455e-04 - val_accuracy: 7.1073e-04\n",
            "Epoch 14/100\n",
            "54/54 [==============================] - 17s 318ms/step - loss: 2.1703e-04 - accuracy: 0.0000e+00 - val_loss: 3.4904e-04 - val_accuracy: 7.1073e-04\n",
            "Epoch 15/100\n",
            "54/54 [==============================] - 17s 318ms/step - loss: 2.3328e-04 - accuracy: 0.0000e+00 - val_loss: 2.5100e-04 - val_accuracy: 7.1073e-04\n",
            "Epoch 16/100\n",
            "54/54 [==============================] - 17s 322ms/step - loss: 2.0316e-04 - accuracy: 0.0000e+00 - val_loss: 3.0464e-04 - val_accuracy: 7.1073e-04\n",
            "Epoch 17/100\n",
            "54/54 [==============================] - 17s 323ms/step - loss: 1.9615e-04 - accuracy: 0.0000e+00 - val_loss: 2.6773e-04 - val_accuracy: 7.1073e-04\n",
            "Epoch 18/100\n",
            "54/54 [==============================] - 17s 322ms/step - loss: 2.0765e-04 - accuracy: 0.0000e+00 - val_loss: 3.5290e-04 - val_accuracy: 7.1073e-04\n",
            "Epoch 19/100\n",
            "54/54 [==============================] - 17s 321ms/step - loss: 1.9032e-04 - accuracy: 0.0000e+00 - val_loss: 2.2811e-04 - val_accuracy: 7.1073e-04\n",
            "Epoch 20/100\n",
            "54/54 [==============================] - 17s 323ms/step - loss: 1.7783e-04 - accuracy: 0.0000e+00 - val_loss: 2.7054e-04 - val_accuracy: 7.1073e-04\n",
            "Epoch 21/100\n",
            "54/54 [==============================] - 17s 322ms/step - loss: 1.8602e-04 - accuracy: 0.0000e+00 - val_loss: 2.1242e-04 - val_accuracy: 7.1073e-04\n",
            "Epoch 22/100\n",
            "54/54 [==============================] - 17s 325ms/step - loss: 1.8671e-04 - accuracy: 0.0000e+00 - val_loss: 2.3637e-04 - val_accuracy: 7.1073e-04\n",
            "Epoch 23/100\n",
            "54/54 [==============================] - 17s 324ms/step - loss: 1.9748e-04 - accuracy: 0.0000e+00 - val_loss: 4.3935e-04 - val_accuracy: 7.1073e-04\n",
            "Epoch 24/100\n",
            "54/54 [==============================] - 17s 325ms/step - loss: 1.7980e-04 - accuracy: 0.0000e+00 - val_loss: 3.0229e-04 - val_accuracy: 7.1073e-04\n",
            "Epoch 25/100\n",
            "54/54 [==============================] - 17s 323ms/step - loss: 1.6309e-04 - accuracy: 0.0000e+00 - val_loss: 4.8654e-04 - val_accuracy: 7.1073e-04\n",
            "Epoch 26/100\n",
            "54/54 [==============================] - 17s 324ms/step - loss: 1.7758e-04 - accuracy: 0.0000e+00 - val_loss: 2.4195e-04 - val_accuracy: 7.1073e-04\n",
            "Epoch 27/100\n",
            "54/54 [==============================] - 17s 323ms/step - loss: 1.5175e-04 - accuracy: 0.0000e+00 - val_loss: 1.8692e-04 - val_accuracy: 7.1073e-04\n",
            "Epoch 28/100\n",
            "54/54 [==============================] - 17s 322ms/step - loss: 1.6236e-04 - accuracy: 0.0000e+00 - val_loss: 2.1132e-04 - val_accuracy: 7.1073e-04\n",
            "Epoch 29/100\n",
            "54/54 [==============================] - 17s 323ms/step - loss: 1.5047e-04 - accuracy: 0.0000e+00 - val_loss: 1.9175e-04 - val_accuracy: 7.1073e-04\n",
            "Epoch 30/100\n",
            "54/54 [==============================] - 17s 324ms/step - loss: 1.4628e-04 - accuracy: 0.0000e+00 - val_loss: 1.7802e-04 - val_accuracy: 7.1073e-04\n",
            "Epoch 31/100\n",
            "54/54 [==============================] - 17s 325ms/step - loss: 1.6639e-04 - accuracy: 0.0000e+00 - val_loss: 1.7812e-04 - val_accuracy: 7.1073e-04\n",
            "Epoch 32/100\n",
            "54/54 [==============================] - 17s 322ms/step - loss: 1.3674e-04 - accuracy: 0.0000e+00 - val_loss: 5.0023e-04 - val_accuracy: 7.1073e-04\n",
            "Epoch 33/100\n",
            "54/54 [==============================] - 18s 325ms/step - loss: 1.5038e-04 - accuracy: 0.0000e+00 - val_loss: 2.3109e-04 - val_accuracy: 7.1073e-04\n",
            "Epoch 34/100\n",
            "54/54 [==============================] - 18s 326ms/step - loss: 1.4079e-04 - accuracy: 0.0000e+00 - val_loss: 1.9283e-04 - val_accuracy: 7.1073e-04\n",
            "Epoch 35/100\n",
            "54/54 [==============================] - 18s 326ms/step - loss: 1.5207e-04 - accuracy: 0.0000e+00 - val_loss: 2.5137e-04 - val_accuracy: 7.1073e-04\n",
            "Epoch 36/100\n",
            "54/54 [==============================] - 17s 321ms/step - loss: 1.4128e-04 - accuracy: 0.0000e+00 - val_loss: 2.0367e-04 - val_accuracy: 7.1073e-04\n",
            "Epoch 37/100\n",
            "54/54 [==============================] - 17s 323ms/step - loss: 1.5792e-04 - accuracy: 0.0000e+00 - val_loss: 1.6812e-04 - val_accuracy: 7.1073e-04\n",
            "Epoch 38/100\n",
            "54/54 [==============================] - 18s 326ms/step - loss: 1.2446e-04 - accuracy: 0.0000e+00 - val_loss: 1.6251e-04 - val_accuracy: 7.1073e-04\n",
            "Epoch 39/100\n",
            "54/54 [==============================] - 17s 324ms/step - loss: 1.2832e-04 - accuracy: 0.0000e+00 - val_loss: 1.7843e-04 - val_accuracy: 7.1073e-04\n",
            "Epoch 40/100\n",
            "54/54 [==============================] - 17s 323ms/step - loss: 1.1986e-04 - accuracy: 0.0000e+00 - val_loss: 1.5580e-04 - val_accuracy: 7.1073e-04\n",
            "Epoch 41/100\n",
            "54/54 [==============================] - 17s 321ms/step - loss: 1.2072e-04 - accuracy: 0.0000e+00 - val_loss: 1.9134e-04 - val_accuracy: 7.1073e-04\n",
            "Epoch 42/100\n",
            "54/54 [==============================] - 17s 322ms/step - loss: 1.3090e-04 - accuracy: 0.0000e+00 - val_loss: 4.4226e-04 - val_accuracy: 7.1073e-04\n",
            "Epoch 43/100\n",
            "54/54 [==============================] - 17s 324ms/step - loss: 1.2079e-04 - accuracy: 0.0000e+00 - val_loss: 2.1091e-04 - val_accuracy: 7.1073e-04\n",
            "Epoch 44/100\n",
            "54/54 [==============================] - 17s 323ms/step - loss: 1.1898e-04 - accuracy: 0.0000e+00 - val_loss: 6.0508e-04 - val_accuracy: 7.1073e-04\n",
            "Epoch 45/100\n",
            "54/54 [==============================] - 17s 322ms/step - loss: 1.2268e-04 - accuracy: 0.0000e+00 - val_loss: 1.3982e-04 - val_accuracy: 7.1073e-04\n",
            "Epoch 46/100\n",
            "54/54 [==============================] - 17s 321ms/step - loss: 1.0317e-04 - accuracy: 0.0000e+00 - val_loss: 2.0432e-04 - val_accuracy: 7.1073e-04\n",
            "Epoch 47/100\n",
            "54/54 [==============================] - 17s 324ms/step - loss: 1.4906e-04 - accuracy: 0.0000e+00 - val_loss: 3.2975e-04 - val_accuracy: 7.1073e-04\n",
            "Epoch 48/100\n",
            "54/54 [==============================] - 17s 323ms/step - loss: 1.0360e-04 - accuracy: 0.0000e+00 - val_loss: 1.4183e-04 - val_accuracy: 7.1073e-04\n",
            "Epoch 49/100\n",
            "54/54 [==============================] - 17s 322ms/step - loss: 1.0043e-04 - accuracy: 0.0000e+00 - val_loss: 1.4490e-04 - val_accuracy: 7.1073e-04\n",
            "Epoch 50/100\n",
            "54/54 [==============================] - 17s 323ms/step - loss: 1.0099e-04 - accuracy: 0.0000e+00 - val_loss: 2.0043e-04 - val_accuracy: 7.1073e-04\n",
            "Epoch 51/100\n",
            "54/54 [==============================] - 18s 325ms/step - loss: 1.0251e-04 - accuracy: 0.0000e+00 - val_loss: 1.2023e-04 - val_accuracy: 7.1073e-04\n",
            "Epoch 52/100\n",
            "54/54 [==============================] - 18s 325ms/step - loss: 1.1339e-04 - accuracy: 0.0000e+00 - val_loss: 2.0590e-04 - val_accuracy: 7.1073e-04\n",
            "Epoch 53/100\n",
            "54/54 [==============================] - 17s 322ms/step - loss: 9.7706e-05 - accuracy: 0.0000e+00 - val_loss: 1.4997e-04 - val_accuracy: 7.1073e-04\n",
            "Epoch 54/100\n",
            "54/54 [==============================] - 17s 323ms/step - loss: 8.8572e-05 - accuracy: 0.0000e+00 - val_loss: 1.1736e-04 - val_accuracy: 7.1073e-04\n",
            "Epoch 55/100\n",
            "54/54 [==============================] - 17s 323ms/step - loss: 9.2466e-05 - accuracy: 0.0000e+00 - val_loss: 1.0788e-04 - val_accuracy: 7.1073e-04\n",
            "Epoch 56/100\n",
            "54/54 [==============================] - 18s 326ms/step - loss: 1.1956e-04 - accuracy: 0.0000e+00 - val_loss: 1.4644e-04 - val_accuracy: 7.1073e-04\n",
            "Epoch 57/100\n",
            "54/54 [==============================] - 17s 324ms/step - loss: 1.0843e-04 - accuracy: 0.0000e+00 - val_loss: 1.0934e-04 - val_accuracy: 7.1073e-04\n",
            "Epoch 58/100\n",
            "54/54 [==============================] - 17s 321ms/step - loss: 9.0079e-05 - accuracy: 0.0000e+00 - val_loss: 1.1067e-04 - val_accuracy: 7.1073e-04\n",
            "Epoch 59/100\n",
            "54/54 [==============================] - 17s 324ms/step - loss: 8.8509e-05 - accuracy: 0.0000e+00 - val_loss: 1.3288e-04 - val_accuracy: 7.1073e-04\n",
            "Epoch 60/100\n",
            "54/54 [==============================] - 17s 323ms/step - loss: 1.0403e-04 - accuracy: 0.0000e+00 - val_loss: 2.8551e-04 - val_accuracy: 7.1073e-04\n",
            "Epoch 61/100\n",
            "54/54 [==============================] - 18s 325ms/step - loss: 9.0491e-05 - accuracy: 0.0000e+00 - val_loss: 1.1073e-04 - val_accuracy: 7.1073e-04\n",
            "Epoch 62/100\n",
            "54/54 [==============================] - 17s 322ms/step - loss: 8.9630e-05 - accuracy: 0.0000e+00 - val_loss: 2.9678e-04 - val_accuracy: 7.1073e-04\n",
            "Epoch 63/100\n",
            "54/54 [==============================] - 17s 320ms/step - loss: 9.8063e-05 - accuracy: 0.0000e+00 - val_loss: 1.1519e-04 - val_accuracy: 7.1073e-04\n",
            "Epoch 64/100\n",
            "54/54 [==============================] - 17s 323ms/step - loss: 8.7709e-05 - accuracy: 0.0000e+00 - val_loss: 1.4613e-04 - val_accuracy: 7.1073e-04\n",
            "Epoch 65/100\n",
            "54/54 [==============================] - 17s 322ms/step - loss: 8.9663e-05 - accuracy: 0.0000e+00 - val_loss: 1.3831e-04 - val_accuracy: 7.1073e-04\n",
            "Epoch 66/100\n",
            "54/54 [==============================] - 17s 322ms/step - loss: 7.9334e-05 - accuracy: 0.0000e+00 - val_loss: 1.8851e-04 - val_accuracy: 7.1073e-04\n",
            "Epoch 67/100\n",
            "54/54 [==============================] - 17s 323ms/step - loss: 9.8455e-05 - accuracy: 0.0000e+00 - val_loss: 1.0410e-04 - val_accuracy: 7.1073e-04\n",
            "Epoch 68/100\n",
            "54/54 [==============================] - 17s 321ms/step - loss: 7.1574e-05 - accuracy: 0.0000e+00 - val_loss: 1.2558e-04 - val_accuracy: 7.1073e-04\n",
            "Epoch 69/100\n",
            "54/54 [==============================] - 17s 324ms/step - loss: 9.5137e-05 - accuracy: 0.0000e+00 - val_loss: 1.2993e-04 - val_accuracy: 7.1073e-04\n",
            "Epoch 70/100\n",
            "54/54 [==============================] - 17s 321ms/step - loss: 7.8349e-05 - accuracy: 0.0000e+00 - val_loss: 9.7866e-05 - val_accuracy: 7.1073e-04\n",
            "Epoch 71/100\n",
            "54/54 [==============================] - 17s 322ms/step - loss: 7.5343e-05 - accuracy: 0.0000e+00 - val_loss: 9.5643e-05 - val_accuracy: 7.1073e-04\n",
            "Epoch 72/100\n",
            "54/54 [==============================] - 17s 323ms/step - loss: 8.2115e-05 - accuracy: 0.0000e+00 - val_loss: 2.4842e-04 - val_accuracy: 7.1073e-04\n",
            "Epoch 73/100\n",
            "54/54 [==============================] - 17s 322ms/step - loss: 7.4871e-05 - accuracy: 0.0000e+00 - val_loss: 1.0958e-04 - val_accuracy: 7.1073e-04\n",
            "Epoch 74/100\n",
            "54/54 [==============================] - 17s 324ms/step - loss: 8.2415e-05 - accuracy: 0.0000e+00 - val_loss: 8.4526e-05 - val_accuracy: 7.1073e-04\n",
            "Epoch 75/100\n",
            "54/54 [==============================] - 17s 322ms/step - loss: 7.9358e-05 - accuracy: 0.0000e+00 - val_loss: 8.7699e-05 - val_accuracy: 7.1073e-04\n",
            "Epoch 76/100\n",
            "54/54 [==============================] - 18s 325ms/step - loss: 9.0247e-05 - accuracy: 0.0000e+00 - val_loss: 9.2861e-05 - val_accuracy: 7.1073e-04\n",
            "Epoch 77/100\n",
            "54/54 [==============================] - 17s 323ms/step - loss: 6.6973e-05 - accuracy: 0.0000e+00 - val_loss: 1.2063e-04 - val_accuracy: 7.1073e-04\n",
            "Epoch 78/100\n",
            "54/54 [==============================] - 17s 319ms/step - loss: 7.2685e-05 - accuracy: 0.0000e+00 - val_loss: 9.8673e-05 - val_accuracy: 7.1073e-04\n",
            "Epoch 79/100\n",
            "54/54 [==============================] - 17s 324ms/step - loss: 8.0084e-05 - accuracy: 0.0000e+00 - val_loss: 1.1006e-04 - val_accuracy: 7.1073e-04\n",
            "Epoch 80/100\n",
            "54/54 [==============================] - 17s 324ms/step - loss: 7.2619e-05 - accuracy: 0.0000e+00 - val_loss: 1.1544e-04 - val_accuracy: 7.1073e-04\n",
            "Epoch 81/100\n",
            "54/54 [==============================] - 18s 326ms/step - loss: 7.1011e-05 - accuracy: 0.0000e+00 - val_loss: 1.3135e-04 - val_accuracy: 7.1073e-04\n",
            "Epoch 82/100\n",
            "54/54 [==============================] - 17s 321ms/step - loss: 7.0075e-05 - accuracy: 0.0000e+00 - val_loss: 9.5434e-05 - val_accuracy: 7.1073e-04\n",
            "Epoch 83/100\n",
            "54/54 [==============================] - 17s 323ms/step - loss: 7.0627e-05 - accuracy: 0.0000e+00 - val_loss: 8.9713e-05 - val_accuracy: 7.1073e-04\n",
            "Epoch 84/100\n",
            "54/54 [==============================] - 17s 323ms/step - loss: 7.4202e-05 - accuracy: 0.0000e+00 - val_loss: 1.1849e-04 - val_accuracy: 7.1073e-04\n",
            "Epoch 85/100\n",
            "54/54 [==============================] - 17s 324ms/step - loss: 7.1257e-05 - accuracy: 0.0000e+00 - val_loss: 1.1822e-04 - val_accuracy: 7.1073e-04\n",
            "Epoch 86/100\n",
            "54/54 [==============================] - 17s 322ms/step - loss: 6.7880e-05 - accuracy: 0.0000e+00 - val_loss: 3.5955e-04 - val_accuracy: 7.1073e-04\n",
            "Epoch 87/100\n",
            "54/54 [==============================] - 17s 322ms/step - loss: 7.5793e-05 - accuracy: 0.0000e+00 - val_loss: 9.7055e-05 - val_accuracy: 7.1073e-04\n",
            "Epoch 88/100\n",
            "54/54 [==============================] - 17s 323ms/step - loss: 7.9343e-05 - accuracy: 0.0000e+00 - val_loss: 1.3341e-04 - val_accuracy: 7.1073e-04\n",
            "Epoch 89/100\n",
            "54/54 [==============================] - 17s 324ms/step - loss: 7.6892e-05 - accuracy: 0.0000e+00 - val_loss: 8.4632e-05 - val_accuracy: 7.1073e-04\n",
            "Epoch 90/100\n",
            "54/54 [==============================] - 17s 325ms/step - loss: 8.8779e-05 - accuracy: 0.0000e+00 - val_loss: 1.5214e-04 - val_accuracy: 7.1073e-04\n",
            "Epoch 91/100\n",
            "54/54 [==============================] - 17s 322ms/step - loss: 6.8859e-05 - accuracy: 0.0000e+00 - val_loss: 9.5584e-05 - val_accuracy: 7.1073e-04\n",
            "Epoch 92/100\n",
            "54/54 [==============================] - 17s 325ms/step - loss: 6.4554e-05 - accuracy: 0.0000e+00 - val_loss: 1.0543e-04 - val_accuracy: 7.1073e-04\n",
            "Epoch 93/100\n",
            "54/54 [==============================] - 17s 322ms/step - loss: 8.0159e-05 - accuracy: 0.0000e+00 - val_loss: 8.4493e-05 - val_accuracy: 7.1073e-04\n",
            "Epoch 94/100\n",
            "54/54 [==============================] - 17s 323ms/step - loss: 6.9116e-05 - accuracy: 0.0000e+00 - val_loss: 9.8374e-05 - val_accuracy: 7.1073e-04\n",
            "Epoch 95/100\n",
            "54/54 [==============================] - 17s 324ms/step - loss: 6.6385e-05 - accuracy: 0.0000e+00 - val_loss: 8.6488e-05 - val_accuracy: 7.1073e-04\n",
            "Epoch 96/100\n",
            "54/54 [==============================] - 17s 321ms/step - loss: 8.4014e-05 - accuracy: 0.0000e+00 - val_loss: 2.0269e-04 - val_accuracy: 7.1073e-04\n",
            "Epoch 97/100\n",
            "54/54 [==============================] - 17s 324ms/step - loss: 8.1874e-05 - accuracy: 0.0000e+00 - val_loss: 9.5184e-05 - val_accuracy: 7.1073e-04\n",
            "Epoch 98/100\n",
            "54/54 [==============================] - 17s 323ms/step - loss: 8.8777e-05 - accuracy: 0.0000e+00 - val_loss: 8.3306e-05 - val_accuracy: 7.1073e-04\n",
            "Epoch 99/100\n",
            "54/54 [==============================] - 17s 321ms/step - loss: 7.4655e-05 - accuracy: 0.0000e+00 - val_loss: 4.9740e-04 - val_accuracy: 7.1073e-04\n",
            "Epoch 100/100\n",
            "54/54 [==============================] - 18s 325ms/step - loss: 8.8330e-05 - accuracy: 0.0000e+00 - val_loss: 1.4276e-04 - val_accuracy: 7.1073e-04\n"
          ]
        },
        {
          "output_type": "execute_result",
          "data": {
            "text/plain": [
              "<keras.callbacks.History at 0x7fbe6d08bd90>"
            ]
          },
          "metadata": {},
          "execution_count": 86
        }
      ],
      "source": [
        "#Training model with adam optimizer and mean squared error loss function\n",
        "model.compile(loss='mean_squared_error',optimizer='adam', metrics=['accuracy'])\n",
        "model.fit(X_train,y_train,validation_data=(X_test,y_test),epochs=100,batch_size=64)"
      ]
    },
    {
      "cell_type": "markdown",
      "source": [
        "# Neuer Abschnitt"
      ],
      "metadata": {
        "id": "0guH2HtEOw-F"
      },
      "id": "0guH2HtEOw-F"
    },
    {
      "cell_type": "code",
      "execution_count": 87,
      "id": "18b1ba6a",
      "metadata": {
        "colab": {
          "base_uri": "https://localhost:8080/",
          "height": 283
        },
        "id": "18b1ba6a",
        "outputId": "978a8531-0cc3-4c88-f866-6b6ff2741c6f"
      },
      "outputs": [
        {
          "output_type": "execute_result",
          "data": {
            "text/plain": [
              "[<matplotlib.lines.Line2D at 0x7fbe6cff8730>]"
            ]
          },
          "metadata": {},
          "execution_count": 87
        },
        {
          "output_type": "display_data",
          "data": {
            "text/plain": [
              "<Figure size 432x288 with 1 Axes>"
            ],
            "image/png": "[encoded data removed]"
          },
          "metadata": {
            "needs_background": "light"
          }
        }
      ],
      "source": [
        "#PLotting loss, it shows that loss has decreased significantly and model trained well\n",
        "loss = model.history.history['loss']\n",
        "plt.plot(loss)"
      ]
    },
    {
      "cell_type": "code",
      "execution_count": 88,
      "id": "3e7f2fc8",
      "metadata": {
        "id": "3e7f2fc8",
        "colab": {
          "base_uri": "https://localhost:8080/"
        },
        "outputId": "85c786a9-353d-47a9-dc60-b78c6102ff87"
      },
      "outputs": [
        {
          "output_type": "stream",
          "name": "stdout",
          "text": [
            "107/107 [==============================] - 9s 74ms/step\n",
            "44/44 [==============================] - 3s 61ms/step\n"
          ]
        }
      ],
      "source": [
        "#Predicitng on train and test data\n",
        "train_predict = model.predict(X_train)\n",
        "test_predict = model.predict(X_test)"
      ]
    },
    {
      "cell_type": "code",
      "execution_count": 89,
      "id": "c2d6c2d5",
      "metadata": {
        "id": "c2d6c2d5"
      },
      "outputs": [],
      "source": [
        "#Inverse transform to get actual value\n",
        "train_predict = normalizer.inverse_transform(train_predict)\n",
        "test_predict = normalizer.inverse_transform(test_predict)"
      ]
    },
    {
      "cell_type": "code",
      "execution_count": 90,
      "id": "9d0543ad",
      "metadata": {
        "colab": {
          "base_uri": "https://localhost:8080/",
          "height": 283
        },
        "id": "9d0543ad",
        "outputId": "aee5eb08-29b0-406f-e5b8-b45a3412dc62"
      },
      "outputs": [
        {
          "output_type": "execute_result",
          "data": {
            "text/plain": [
              "[<matplotlib.lines.Line2D at 0x7fbe6915b670>]"
            ]
          },
          "metadata": {},
          "execution_count": 90
        },
        {
          "output_type": "display_data",
          "data": {
            "text/plain": [
              "<Figure size 432x288 with 1 Axes>"
            ],
            "image/png": "[encoded data removed]"
          },
          "metadata": {
            "needs_background": "light"
          }
        }
      ],
      "source": [
        "#Comparing using visuals\n",
        "plt.plot(normalizer.inverse_transform(ds_scaled))\n",
        "plt.plot(train_predict)\n",
        "plt.plot(test_predict)"
      ]
    },
    {
      "cell_type": "code",
      "execution_count": 91,
      "id": "55300bae",
      "metadata": {
        "colab": {
          "base_uri": "https://localhost:8080/"
        },
        "id": "55300bae",
        "outputId": "81004871-d17b-4bd8-d78c-0eb434a92a4b"
      },
      "outputs": [
        {
          "output_type": "execute_result",
          "data": {
            "text/plain": [
              "numpy.ndarray"
            ]
          },
          "metadata": {},
          "execution_count": 91
        }
      ],
      "source": [
        "type(train_predict)"
      ]
    },
    {
      "cell_type": "code",
      "execution_count": 92,
      "id": "bf6d5613",
      "metadata": {
        "id": "bf6d5613"
      },
      "outputs": [],
      "source": [
        "test = np.vstack((train_predict,test_predict))"
      ]
    },
    {
      "cell_type": "code",
      "execution_count": 93,
      "id": "41b272ff",
      "metadata": {
        "colab": {
          "base_uri": "https://localhost:8080/",
          "height": 283
        },
        "id": "41b272ff",
        "outputId": "3a3f1463-3233-40eb-dc05-1fe53d9ef228"
      },
      "outputs": [
        {
          "output_type": "execute_result",
          "data": {
            "text/plain": [
              "[<matplotlib.lines.Line2D at 0x7fbe69185460>]"
            ]
          },
          "metadata": {},
          "execution_count": 93
        },
        {
          "output_type": "display_data",
          "data": {
            "text/plain": [
              "<Figure size 432x288 with 1 Axes>"
            ],
            "image/png": "[encoded data removed]"
          },
          "metadata": {
            "needs_background": "light"
          }
        }
      ],
      "source": [
        "#Combining the predited data to create uniform data visualization\n",
        "plt.plot(normalizer.inverse_transform(ds_scaled))\n",
        "plt.plot(test)"
      ]
    },
    {
      "cell_type": "code",
      "execution_count": 94,
      "id": "16af9283",
      "metadata": {
        "colab": {
          "base_uri": "https://localhost:8080/"
        },
        "id": "16af9283",
        "outputId": "0216d027-34db-487f-93ba-8d0b34a3e5b1"
      },
      "outputs": [
        {
          "output_type": "execute_result",
          "data": {
            "text/plain": [
              "1508"
            ]
          },
          "metadata": {},
          "execution_count": 94
        }
      ],
      "source": [
        "len(ds_test)"
      ]
    },
    {
      "cell_type": "code",
      "execution_count": 101,
      "id": "c13df7b8",
      "metadata": {
        "id": "c13df7b8"
      },
      "outputs": [],
      "source": [
        "#Getting the last 100 days records\n",
        "fut_inp = ds_test[1408:]"
      ]
    },
    {
      "cell_type": "code",
      "execution_count": 102,
      "id": "52b30579",
      "metadata": {
        "id": "52b30579"
      },
      "outputs": [],
      "source": [
        "fut_inp = fut_inp.reshape(1,-1)"
      ]
    },
    {
      "cell_type": "code",
      "execution_count": 103,
      "id": "ac2686a6",
      "metadata": {
        "id": "ac2686a6"
      },
      "outputs": [],
      "source": [
        "tmp_inp = list(fut_inp)"
      ]
    },
    {
      "cell_type": "code",
      "execution_count": 104,
      "id": "dad5024f",
      "metadata": {
        "colab": {
          "base_uri": "https://localhost:8080/"
        },
        "id": "dad5024f",
        "outputId": "be4914ae-9c15-4037-ab8a-5bc19cd8d447"
      },
      "outputs": [
        {
          "output_type": "execute_result",
          "data": {
            "text/plain": [
              "(1, 100)"
            ]
          },
          "metadata": {},
          "execution_count": 104
        }
      ],
      "source": [
        "fut_inp.shape"
      ]
    },
    {
      "cell_type": "code",
      "execution_count": 105,
      "id": "98042a30",
      "metadata": {
        "id": "98042a30"
      },
      "outputs": [],
      "source": [
        "#Creating list of the last 100 data\n",
        "tmp_inp = tmp_inp[0].tolist()"
      ]
    },
    {
      "cell_type": "code",
      "execution_count": 106,
      "id": "44799d02",
      "metadata": {
        "colab": {
          "base_uri": "https://localhost:8080/"
        },
        "id": "44799d02",
        "outputId": "508ada50-a090-4ec8-805b-0e4f64aa0ffb"
      },
      "outputs": [
        {
          "output_type": "stream",
          "name": "stdout",
          "text": [
            "[[0.9329454898834229]]\n"
          ]
        }
      ],
      "source": [
        "#Predicting next 1 days price suing the current data\n",
        "#It will predict in sliding window manner (algorithm) with stride 1\n",
        "lst_output=[]\n",
        "n_steps=100\n",
        "i=0\n",
        "while(i<1):\n",
        "    \n",
        "    if(len(tmp_inp)>100):\n",
        "        fut_inp = np.array(tmp_inp[1:])\n",
        "        fut_inp=fut_inp.reshape(1,-1)\n",
        "        fut_inp = fut_inp.reshape((1, n_steps, 1))\n",
        "        yhat = model.predict(fut_inp, verbose=0)\n",
        "        tmp_inp.extend(yhat[0].tolist())\n",
        "        tmp_inp = tmp_inp[1:]\n",
        "        lst_output.extend(yhat.tolist())\n",
        "        i=i+1\n",
        "    else:\n",
        "        fut_inp = fut_inp.reshape((1, n_steps,1))\n",
        "        yhat = model.predict(fut_inp, verbose=0)\n",
        "        tmp_inp.extend(yhat[0].tolist())\n",
        "        lst_output.extend(yhat.tolist())\n",
        "        i=i+1\n",
        "    \n",
        "\n",
        "print(lst_output)"
      ]
    },
    {
      "cell_type": "code",
      "execution_count": 107,
      "id": "d49a83e5",
      "metadata": {
        "colab": {
          "base_uri": "https://localhost:8080/"
        },
        "id": "d49a83e5",
        "outputId": "5439b60f-3de2-425c-82e7-b0e67a843975"
      },
      "outputs": [
        {
          "output_type": "execute_result",
          "data": {
            "text/plain": [
              "5025"
            ]
          },
          "metadata": {},
          "execution_count": 107
        }
      ],
      "source": [
        "len(ds_scaled)"
      ]
    },
    {
      "cell_type": "code",
      "execution_count": 111,
      "id": "49450ea7",
      "metadata": {
        "id": "49450ea7"
      },
      "outputs": [],
      "source": [
        "#Creating a dummy plane to plot graph one after another\n",
        "plot_new=np.arange(1,101)\n",
        "plot_pred=np.arange(101,102)\n",
        "#plot_pred=np.arange(101,139)"
      ]
    },
    {
      "cell_type": "code",
      "execution_count": 113,
      "id": "29f84e31",
      "metadata": {
        "colab": {
          "base_uri": "https://localhost:8080/",
          "height": 287
        },
        "id": "29f84e31",
        "outputId": "cc225e8e-71c3-4d60-c90d-9b3b3ddbb0d4"
      },
      "outputs": [
        {
          "output_type": "execute_result",
          "data": {
            "text/plain": [
              "[<matplotlib.lines.Line2D at 0x7fbe68e44c40>]"
            ]
          },
          "metadata": {},
          "execution_count": 113
        },
        {
          "output_type": "display_data",
          "data": {
            "text/plain": [
              "<Figure size 432x288 with 1 Axes>"
            ],
            "image/png": "[encoded data removed]"
          },
          "metadata": {
            "needs_background": "light"
          }
        }
      ],
      "source": [
        "plt.plot(plot_new, normalizer.inverse_transform(ds_scaled[4925:]))\n",
        "plt.plot(plot_pred, normalizer.inverse_transform(lst_output))"
      ]
    },
    {
      "cell_type": "code",
      "execution_count": 114,
      "id": "e41c9362",
      "metadata": {
        "id": "e41c9362"
      },
      "outputs": [],
      "source": [
        "ds_new = ds_scaled.tolist()"
      ]
    },
    {
      "cell_type": "code",
      "execution_count": 115,
      "id": "d6c8d3c1",
      "metadata": {
        "colab": {
          "base_uri": "https://localhost:8080/"
        },
        "id": "d6c8d3c1",
        "outputId": "bd7618fd-b6c7-4bf2-cd7d-81660c7112e7"
      },
      "outputs": [
        {
          "output_type": "execute_result",
          "data": {
            "text/plain": [
              "5025"
            ]
          },
          "metadata": {},
          "execution_count": 115
        }
      ],
      "source": [
        "len(ds_new)"
      ]
    },
    {
      "cell_type": "code",
      "execution_count": 116,
      "id": "24e99607",
      "metadata": {
        "colab": {
          "base_uri": "https://localhost:8080/",
          "height": 283
        },
        "id": "24e99607",
        "outputId": "1b1c1222-6abb-4411-bf5b-f35461ac020b"
      },
      "outputs": [
        {
          "output_type": "execute_result",
          "data": {
            "text/plain": [
              "[<matplotlib.lines.Line2D at 0x7fbe6d3bdf70>]"
            ]
          },
          "metadata": {},
          "execution_count": 116
        },
        {
          "output_type": "display_data",
          "data": {
            "text/plain": [
              "<Figure size 432x288 with 1 Axes>"
            ],
            "image/png": "[encoded data removed]"
          },
          "metadata": {
            "needs_background": "light"
          }
        }
      ],
      "source": [
        "#Entends helps us to fill the missing value with approx value\n",
        "ds_new.extend(lst_output)\n",
        "plt.plot(ds_new[1200:])"
      ]
    },
    {
      "cell_type": "code",
      "execution_count": 117,
      "id": "7f04f058",
      "metadata": {
        "id": "7f04f058"
      },
      "outputs": [],
      "source": [
        "#Creating final data for plotting\n",
        "final_graph = normalizer.inverse_transform(ds_new).tolist()"
      ]
    },
    {
      "cell_type": "code",
      "execution_count": 118,
      "id": "2dfdef30",
      "metadata": {
        "colab": {
          "base_uri": "https://localhost:8080/",
          "height": 313
        },
        "id": "2dfdef30",
        "outputId": "dd33fc32-93f4-4453-fb57-035965325bf0"
      },
      "outputs": [
        {
          "output_type": "execute_result",
          "data": {
            "text/plain": [
              "<matplotlib.legend.Legend at 0x7fbe6d40cc10>"
            ]
          },
          "metadata": {},
          "execution_count": 118
        },
        {
          "output_type": "display_data",
          "data": {
            "text/plain": [
              "<Figure size 432x288 with 1 Axes>"
            ],
            "image/png": "[encoded data removed]"
          },
          "metadata": {
            "needs_background": "light"
          }
        }
      ],
      "source": [
        "#Plotting final results with predicted value after 1 Days\n",
        "plt.plot(final_graph,)\n",
        "plt.ylabel(\"Price\")\n",
        "plt.xlabel(\"Time\")\n",
        "plt.title(\"{0} prediction of next day close\".format(stock_symbol))\n",
        "plt.axhline(y=final_graph[len(final_graph)-1], color = 'red', linestyle = ':', label = 'NEXT 1D Close: {0}'.format(round(float(*final_graph[len(final_graph)-1]),2)))\n",
        "plt.legend()\n",
        "\n"
      ]
    },
    {
      "cell_type": "code",
      "source": [],
      "metadata": {
        "id": "c0SdXLLqfcwV"
      },
      "id": "c0SdXLLqfcwV",
      "execution_count": null,
      "outputs": []
    },
    {
      "cell_type": "code",
      "source": [],
      "metadata": {
        "id": "AFa3KgL7fcxN"
      },
      "id": "AFa3KgL7fcxN",
      "execution_count": null,
      "outputs": []
    },
    {
      "cell_type": "code",
      "source": [],
      "metadata": {
        "id": "ZfNML1mIfczJ"
      },
      "id": "ZfNML1mIfczJ",
      "execution_count": null,
      "outputs": []
    },
    {
      "cell_type": "code",
      "source": [],
      "metadata": {
        "id": "gkNrlwtWfc2D"
      },
      "id": "gkNrlwtWfc2D",
      "execution_count": null,
      "outputs": []
    }
  ],
  "metadata": {
    "kernelspec": {
      "display_name": "Python 3",
      "language": "python",
      "name": "python3"
    },
    "language_info": {
      "codemirror_mode": {
        "name": "ipython",
        "version": 3
      },
      "file_extension": ".py",
      "mimetype": "text/x-python",
      "name": "python",
      "nbconvert_exporter": "python",
      "pygments_lexer": "ipython3",
      "version": "3.8.8"
    },
    "toc": {
      "base_numbering": 1,
      "nav_menu": {},
      "number_sections": true,
      "sideBar": true,
      "skip_h1_title": false,
      "title_cell": "Table of Contents",
      "title_sidebar": "Contents",
      "toc_cell": false,
      "toc_position": {},
      "toc_section_display": true,
      "toc_window_display": false
    },
    "varInspector": {
      "cols": {
        "lenName": 16,
        "lenType": 16,
        "lenVar": 40
      },
      "kernels_config": {
        "python": {
          "delete_cmd_postfix": "",
          "delete_cmd_prefix": "del ",
          "library": "var_list.py",
          "varRefreshCmd": "print(var_dic_list())"
        },
        "r": {
          "delete_cmd_postfix": ") ",
          "delete_cmd_prefix": "rm(",
          "library": "var_list.r",
          "varRefreshCmd": "cat(var_dic_list()) "
        }
      },
      "types_to_exclude": [
        "module",
        "function",
        "builtin_function_or_method",
        "instance",
        "_Feature"
      ],
      "window_display": false
    },
    "colab": {
      "provenance": []
    }
  },
  "nbformat": 4,
  "nbformat_minor": 5
}